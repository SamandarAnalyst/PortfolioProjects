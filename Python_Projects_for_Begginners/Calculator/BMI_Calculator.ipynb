{
 "cells": [
  {
   "cell_type": "code",
   "execution_count": 2,
   "id": "initial_id",
   "metadata": {
    "collapsed": true,
    "ExecuteTime": {
     "end_time": "2023-09-14T03:10:26.878474200Z",
     "start_time": "2023-09-14T03:10:26.871339600Z"
    }
   },
   "outputs": [],
   "source": [
    "# BMI Calculator"
   ]
  },
  {
   "cell_type": "code",
   "execution_count": 16,
   "outputs": [
    {
     "name": "stdout",
     "output_type": "stream",
     "text": [
      "Enter your name:  samandar\n",
      "Enter your weight in pounds:  170\n",
      "Enter your height in inches:  69\n",
      "\n",
      "25.101869355177485\n",
      "Samandar you are overweight. You need to exercise more and stop sitting and start programming quickly\n"
     ]
    }
   ],
   "source": [
    "name = input('Enter your name: ')\n",
    "print('Enter your name: ', name)\n",
    "\n",
    "weight = int(input('Enter your weight in pounds: '))\n",
    "print('Enter your weight in pounds: ',weight)\n",
    "\n",
    "height = int(input('Enter your height in inches: '))\n",
    "print('Enter your height in inches: ',height)\n",
    "\n",
    "BMI = (weight * 703) / (height * height)\n",
    "\n",
    "print()\n",
    "print(BMI)\n",
    "if BMI > 0:\n",
    "    if BMI < 18.5:\n",
    "        print(name.title() + \" you are underweight.\")\n",
    "    elif BMI <= 24.9:\n",
    "        print(name.title() + \" you are normal weight.\")\n",
    "    elif BMI < 29.9:\n",
    "        print(name.title() + \" you are overweight. You need to exercise more and stop sitting and start programming quickly\")\n",
    "    elif BMI < 34.9:\n",
    "        print(name.title() + \" you are obese.\")\n",
    "    elif BMI < 39.9:\n",
    "        print(name.title() + \" you are severely obese.\")\n",
    "    else:\n",
    "        print(name.title() + ' you are morbidly obese.')\n",
    "else:\n",
    "    print('Enter valid input')"
   ],
   "metadata": {
    "collapsed": false,
    "ExecuteTime": {
     "end_time": "2023-09-14T03:32:03.970599800Z",
     "start_time": "2023-09-14T03:31:53.031310700Z"
    }
   },
   "id": "bb758a9462328f45"
  }
 ],
 "metadata": {
  "kernelspec": {
   "display_name": "Python 3",
   "language": "python",
   "name": "python3"
  },
  "language_info": {
   "codemirror_mode": {
    "name": "ipython",
    "version": 2
   },
   "file_extension": ".py",
   "mimetype": "text/x-python",
   "name": "python",
   "nbconvert_exporter": "python",
   "pygments_lexer": "ipython2",
   "version": "2.7.6"
  }
 },
 "nbformat": 4,
 "nbformat_minor": 5
}
